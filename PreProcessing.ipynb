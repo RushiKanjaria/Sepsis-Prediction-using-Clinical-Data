{
 "cells": [
  {
   "cell_type": "code",
   "execution_count": 1,
   "id": "5fdec989",
   "metadata": {},
   "outputs": [],
   "source": [
    "import pandas as pd\n",
    "import numpy as np\n",
    "import os"
   ]
  },
  {
   "cell_type": "code",
   "execution_count": 2,
   "id": "a880ae37",
   "metadata": {},
   "outputs": [],
   "source": [
    "# function to fill missing values\n",
    "def impute_missing_vals(df, attributes):\n",
    "    df_clean = df.copy()\n",
    "    for att in attributes:\n",
    "        if df_clean[att].isnull().sum() == len(df_clean):\n",
    "            df_clean[att] = df_clean[att].fillna(0)\n",
    "        elif df_clean[att].isnull().sum() == len(df_clean) - 1:\n",
    "            df_clean[att] = df_clean[att].ffill().bfill()\n",
    "        else:\n",
    "            df_clean[att] = df_clean[att].interpolate(method='nearest', limit_direction='both')\n",
    "            df_clean[att] = df_clean[att].ffill().bfill()\n",
    "    \n",
    "    return df_clean"
   ]
  },
  {
   "cell_type": "code",
   "execution_count": 3,
   "id": "3c0027d7",
   "metadata": {},
   "outputs": [],
   "source": [
    "train_data_path = 'D:/RK/Marwadi University/Sem-7/Project/raw/train/train_data.csv'\n",
    "test_data_path = 'D:/RK/Marwadi University/Sem-7/Project/raw/test/test_data.csv'\n",
    "val_data_path = 'D:/RK/Marwadi University/Sem-7/Project/raw/val/val_data.csv'"
   ]
  },
  {
   "cell_type": "code",
   "execution_count": 4,
   "id": "74003806",
   "metadata": {},
   "outputs": [],
   "source": [
    "import pickle\n",
    "file = open('D:/RK/Marwadi University/Sem-7/Project/raw_data.pickle','rb')\n",
    "raw_data = pickle.load(file)\n",
    "file.close()"
   ]
  },
  {
   "cell_type": "code",
   "execution_count": 5,
   "id": "693d08ea",
   "metadata": {},
   "outputs": [],
   "source": [
    "train_data = pd.read_csv(train_data_path, sep='|')\n",
    "test_data = pd.read_csv(test_data_path, sep='|')\n",
    "val_data = pd.read_csv(val_data_path, sep='|')"
   ]
  },
  {
   "cell_type": "code",
   "execution_count": 6,
   "id": "24a7c04a",
   "metadata": {},
   "outputs": [],
   "source": [
    "train_data = train_data[train_data['ICULOS']<=24]\n",
    "test_data = test_data[test_data['ICULOS']<=24]\n",
    "val_data = val_data[val_data['ICULOS']<=24]\n",
    "raw_data = raw_data[raw_data['ICULOS']<=24]"
   ]
  },
  {
   "cell_type": "code",
   "execution_count": 7,
   "id": "0e293617",
   "metadata": {},
   "outputs": [],
   "source": [
    "patient_id_train = train_data['patient_id'].unique()\n",
    "patient_id_test = test_data['patient_id'].unique()\n",
    "patient_id_val = val_data['patient_id'].unique()\n",
    "patient_id_raw = raw_data['patient_id'].unique()"
   ]
  },
  {
   "cell_type": "code",
   "execution_count": 8,
   "id": "4f9c4727",
   "metadata": {},
   "outputs": [],
   "source": [
    "for i in patient_id_train:\n",
    "    patient = train_data[train_data['patient_id'] == i]\n",
    "    sepsis = patient['SepsisLabel']\n",
    "    if sepsis.sum() == 0:\n",
    "        train_data.drop(train_data[train_data['patient_id'] == i].index, inplace = True)"
   ]
  },
  {
   "cell_type": "code",
   "execution_count": 9,
   "id": "bdd7f5c8",
   "metadata": {},
   "outputs": [],
   "source": [
    "for i in patient_id_test:\n",
    "    patient = test_data[test_data['patient_id'] == i]\n",
    "    sepsis = patient['SepsisLabel']\n",
    "    if sepsis.sum() == 0:\n",
    "        test_data.drop(test_data[test_data['patient_id'] == i].index, inplace = True)"
   ]
  },
  {
   "cell_type": "code",
   "execution_count": 10,
   "id": "9e23d36a",
   "metadata": {},
   "outputs": [],
   "source": [
    "for i in patient_id_val:\n",
    "    patient = val_data[val_data['patient_id'] == i]\n",
    "    sepsis = patient['SepsisLabel']\n",
    "    if sepsis.sum() == 0:\n",
    "        val_data.drop(val_data[val_data['patient_id'] == i].index, inplace = True)"
   ]
  },
  {
   "cell_type": "code",
   "execution_count": 11,
   "id": "42a9115a",
   "metadata": {},
   "outputs": [],
   "source": [
    "for i in patient_id_raw:\n",
    "    patient = raw_data[raw_data['patient_id'] == i]\n",
    "    sepsis = patient['SepsisLabel']\n",
    "    if sepsis.sum() == 0:\n",
    "        raw_data.drop(raw_data[raw_data['patient_id'] == i].index, inplace = True)"
   ]
  },
  {
   "cell_type": "code",
   "execution_count": 12,
   "id": "1037acbc",
   "metadata": {},
   "outputs": [
    {
     "data": {
      "text/plain": [
       "1    11519\n",
       "0     9031\n",
       "Name: SepsisLabel, dtype: int64"
      ]
     },
     "execution_count": 12,
     "metadata": {},
     "output_type": "execute_result"
    }
   ],
   "source": [
    "raw_data['SepsisLabel'].value_counts()"
   ]
  },
  {
   "cell_type": "code",
   "execution_count": 13,
   "id": "a997b592",
   "metadata": {},
   "outputs": [
    {
     "data": {
      "text/plain": [
       "1    8054\n",
       "0    6496\n",
       "Name: SepsisLabel, dtype: int64"
      ]
     },
     "execution_count": 13,
     "metadata": {},
     "output_type": "execute_result"
    }
   ],
   "source": [
    "train_data['SepsisLabel'].value_counts()"
   ]
  },
  {
   "cell_type": "code",
   "execution_count": 14,
   "id": "8d91c20f",
   "metadata": {},
   "outputs": [
    {
     "data": {
      "text/plain": [
       "1    1651\n",
       "0    1149\n",
       "Name: SepsisLabel, dtype: int64"
      ]
     },
     "execution_count": 14,
     "metadata": {},
     "output_type": "execute_result"
    }
   ],
   "source": [
    "test_data['SepsisLabel'].value_counts()"
   ]
  },
  {
   "cell_type": "code",
   "execution_count": 15,
   "id": "2fb63e91",
   "metadata": {},
   "outputs": [
    {
     "data": {
      "text/plain": [
       "1    1814\n",
       "0    1386\n",
       "Name: SepsisLabel, dtype: int64"
      ]
     },
     "execution_count": 15,
     "metadata": {},
     "output_type": "execute_result"
    }
   ],
   "source": [
    "val_data['SepsisLabel'].value_counts()"
   ]
  },
  {
   "cell_type": "code",
   "execution_count": 16,
   "id": "db01137e",
   "metadata": {},
   "outputs": [],
   "source": [
    "attributes = train_data.columns[:-1]"
   ]
  },
  {
   "cell_type": "code",
   "execution_count": 17,
   "id": "69b19d57",
   "metadata": {},
   "outputs": [],
   "source": [
    "raw_clean = impute_missing_vals(raw_data, attributes)\n",
    "raw_clean = raw_clean.drop(['Unit1','Unit2'], axis=1)"
   ]
  },
  {
   "cell_type": "code",
   "execution_count": 18,
   "id": "c9822ee2",
   "metadata": {},
   "outputs": [],
   "source": [
    "train_clean = impute_missing_vals(train_data, attributes)\n",
    "train_clean = train_clean.drop(['Unit1','Unit2'], axis=1)"
   ]
  },
  {
   "cell_type": "code",
   "execution_count": 19,
   "id": "d543a08b",
   "metadata": {},
   "outputs": [],
   "source": [
    "test_clean = impute_missing_vals(test_data, attributes)\n",
    "test_clean = test_clean.drop(['Unit1','Unit2'],axis=1)"
   ]
  },
  {
   "cell_type": "code",
   "execution_count": 20,
   "id": "0781f882",
   "metadata": {},
   "outputs": [],
   "source": [
    "val_clean = impute_missing_vals(val_data, attributes)\n",
    "val_clean = val_clean.drop(['Unit1','Unit2'],axis=1)"
   ]
  },
  {
   "cell_type": "code",
   "execution_count": 31,
   "id": "ba6881b9",
   "metadata": {},
   "outputs": [
    {
     "data": {
      "text/plain": [
       "HR                  0\n",
       "O2Sat               0\n",
       "Temp                0\n",
       "SBP                 0\n",
       "MAP                 0\n",
       "DBP                 0\n",
       "Resp                0\n",
       "EtCO2               0\n",
       "BaseExcess          0\n",
       "HCO3                0\n",
       "FiO2                0\n",
       "pH                  0\n",
       "PaCO2               0\n",
       "SaO2                0\n",
       "AST                 0\n",
       "BUN                 0\n",
       "Alkalinephos        0\n",
       "Calcium             0\n",
       "Chloride            0\n",
       "Creatinine          0\n",
       "Bilirubin_direct    0\n",
       "Glucose             0\n",
       "Lactate             0\n",
       "Magnesium           0\n",
       "Phosphate           0\n",
       "Potassium           0\n",
       "Bilirubin_total     0\n",
       "TroponinI           0\n",
       "Hct                 0\n",
       "Hgb                 0\n",
       "PTT                 0\n",
       "WBC                 0\n",
       "Fibrinogen          0\n",
       "Platelets           0\n",
       "Age                 0\n",
       "Gender              0\n",
       "HospAdmTime         0\n",
       "ICULOS              0\n",
       "patient_id          0\n",
       "SepsisLabel         0\n",
       "dtype: int64"
      ]
     },
     "execution_count": 31,
     "metadata": {},
     "output_type": "execute_result"
    }
   ],
   "source": [
    " raw_clean.isna().sum()"
   ]
  },
  {
   "cell_type": "code",
   "execution_count": 22,
   "id": "a6db1c03",
   "metadata": {},
   "outputs": [],
   "source": [
    "train_clean.to_csv(\"D:/RK/Marwadi University/Sem-7/Project/base/train_data.csv\", sep='|', index= False)\n",
    "test_clean.to_csv(\"D:/RK/Marwadi University/Sem-7/Project/base/test_data.csv\", sep='|', index= False)\n",
    "val_clean.to_csv(\"D:/RK/Marwadi University/Sem-7/Project/base/val_data.csv\", sep='|', index= False)\n",
    "raw_clean.to_csv(\"D:/RK/Marwadi University/Sem-7/Project/base/raw_data.csv\", sep='|', index= False)"
   ]
  },
  {
   "cell_type": "code",
   "execution_count": 30,
   "id": "9cc57813",
   "metadata": {},
   "outputs": [
    {
     "data": {
      "text/html": [
       "<div>\n",
       "<style scoped>\n",
       "    .dataframe tbody tr th:only-of-type {\n",
       "        vertical-align: middle;\n",
       "    }\n",
       "\n",
       "    .dataframe tbody tr th {\n",
       "        vertical-align: top;\n",
       "    }\n",
       "\n",
       "    .dataframe thead th {\n",
       "        text-align: right;\n",
       "    }\n",
       "</style>\n",
       "<table border=\"1\" class=\"dataframe\">\n",
       "  <thead>\n",
       "    <tr style=\"text-align: right;\">\n",
       "      <th></th>\n",
       "      <th>HR</th>\n",
       "      <th>O2Sat</th>\n",
       "      <th>Temp</th>\n",
       "      <th>SBP</th>\n",
       "      <th>MAP</th>\n",
       "      <th>DBP</th>\n",
       "      <th>Resp</th>\n",
       "      <th>EtCO2</th>\n",
       "      <th>BaseExcess</th>\n",
       "      <th>HCO3</th>\n",
       "      <th>...</th>\n",
       "      <th>PTT</th>\n",
       "      <th>WBC</th>\n",
       "      <th>Fibrinogen</th>\n",
       "      <th>Platelets</th>\n",
       "      <th>Age</th>\n",
       "      <th>Gender</th>\n",
       "      <th>HospAdmTime</th>\n",
       "      <th>ICULOS</th>\n",
       "      <th>patient_id</th>\n",
       "      <th>SepsisLabel</th>\n",
       "    </tr>\n",
       "  </thead>\n",
       "  <tbody>\n",
       "    <tr>\n",
       "      <th>34</th>\n",
       "      <td>85.0</td>\n",
       "      <td>100.0</td>\n",
       "      <td>36.10</td>\n",
       "      <td>117.0</td>\n",
       "      <td>90.0</td>\n",
       "      <td>74.0</td>\n",
       "      <td>11.0</td>\n",
       "      <td>50.0</td>\n",
       "      <td>-7.0</td>\n",
       "      <td>18.0</td>\n",
       "      <td>...</td>\n",
       "      <td>72.1</td>\n",
       "      <td>12.6</td>\n",
       "      <td>102.0</td>\n",
       "      <td>127.0</td>\n",
       "      <td>58.54</td>\n",
       "      <td>0</td>\n",
       "      <td>-405.34</td>\n",
       "      <td>1</td>\n",
       "      <td>15</td>\n",
       "      <td>0</td>\n",
       "    </tr>\n",
       "    <tr>\n",
       "      <th>35</th>\n",
       "      <td>85.0</td>\n",
       "      <td>100.0</td>\n",
       "      <td>36.10</td>\n",
       "      <td>117.0</td>\n",
       "      <td>90.0</td>\n",
       "      <td>74.0</td>\n",
       "      <td>11.0</td>\n",
       "      <td>50.0</td>\n",
       "      <td>-7.0</td>\n",
       "      <td>18.0</td>\n",
       "      <td>...</td>\n",
       "      <td>72.1</td>\n",
       "      <td>12.6</td>\n",
       "      <td>102.0</td>\n",
       "      <td>127.0</td>\n",
       "      <td>58.54</td>\n",
       "      <td>0</td>\n",
       "      <td>-405.34</td>\n",
       "      <td>2</td>\n",
       "      <td>15</td>\n",
       "      <td>0</td>\n",
       "    </tr>\n",
       "    <tr>\n",
       "      <th>36</th>\n",
       "      <td>89.5</td>\n",
       "      <td>100.0</td>\n",
       "      <td>36.55</td>\n",
       "      <td>122.5</td>\n",
       "      <td>93.0</td>\n",
       "      <td>75.5</td>\n",
       "      <td>9.5</td>\n",
       "      <td>50.0</td>\n",
       "      <td>-7.0</td>\n",
       "      <td>18.0</td>\n",
       "      <td>...</td>\n",
       "      <td>72.1</td>\n",
       "      <td>12.6</td>\n",
       "      <td>102.0</td>\n",
       "      <td>127.0</td>\n",
       "      <td>58.54</td>\n",
       "      <td>0</td>\n",
       "      <td>-405.34</td>\n",
       "      <td>3</td>\n",
       "      <td>15</td>\n",
       "      <td>0</td>\n",
       "    </tr>\n",
       "    <tr>\n",
       "      <th>37</th>\n",
       "      <td>97.0</td>\n",
       "      <td>100.0</td>\n",
       "      <td>36.70</td>\n",
       "      <td>127.0</td>\n",
       "      <td>97.0</td>\n",
       "      <td>79.0</td>\n",
       "      <td>12.0</td>\n",
       "      <td>50.0</td>\n",
       "      <td>-8.0</td>\n",
       "      <td>18.0</td>\n",
       "      <td>...</td>\n",
       "      <td>37.0</td>\n",
       "      <td>12.6</td>\n",
       "      <td>102.0</td>\n",
       "      <td>127.0</td>\n",
       "      <td>58.54</td>\n",
       "      <td>0</td>\n",
       "      <td>-405.34</td>\n",
       "      <td>4</td>\n",
       "      <td>15</td>\n",
       "      <td>0</td>\n",
       "    </tr>\n",
       "    <tr>\n",
       "      <th>38</th>\n",
       "      <td>90.0</td>\n",
       "      <td>100.0</td>\n",
       "      <td>37.00</td>\n",
       "      <td>110.0</td>\n",
       "      <td>85.0</td>\n",
       "      <td>70.0</td>\n",
       "      <td>14.0</td>\n",
       "      <td>50.0</td>\n",
       "      <td>-8.0</td>\n",
       "      <td>17.0</td>\n",
       "      <td>...</td>\n",
       "      <td>37.0</td>\n",
       "      <td>17.7</td>\n",
       "      <td>102.0</td>\n",
       "      <td>102.0</td>\n",
       "      <td>58.54</td>\n",
       "      <td>0</td>\n",
       "      <td>-405.34</td>\n",
       "      <td>5</td>\n",
       "      <td>15</td>\n",
       "      <td>0</td>\n",
       "    </tr>\n",
       "    <tr>\n",
       "      <th>...</th>\n",
       "      <td>...</td>\n",
       "      <td>...</td>\n",
       "      <td>...</td>\n",
       "      <td>...</td>\n",
       "      <td>...</td>\n",
       "      <td>...</td>\n",
       "      <td>...</td>\n",
       "      <td>...</td>\n",
       "      <td>...</td>\n",
       "      <td>...</td>\n",
       "      <td>...</td>\n",
       "      <td>...</td>\n",
       "      <td>...</td>\n",
       "      <td>...</td>\n",
       "      <td>...</td>\n",
       "      <td>...</td>\n",
       "      <td>...</td>\n",
       "      <td>...</td>\n",
       "      <td>...</td>\n",
       "      <td>...</td>\n",
       "      <td>...</td>\n",
       "    </tr>\n",
       "    <tr>\n",
       "      <th>121604</th>\n",
       "      <td>99.5</td>\n",
       "      <td>100.0</td>\n",
       "      <td>36.10</td>\n",
       "      <td>153.0</td>\n",
       "      <td>112.0</td>\n",
       "      <td>83.0</td>\n",
       "      <td>20.0</td>\n",
       "      <td>33.0</td>\n",
       "      <td>2.0</td>\n",
       "      <td>25.1</td>\n",
       "      <td>...</td>\n",
       "      <td>30.5</td>\n",
       "      <td>7.1</td>\n",
       "      <td>290.0</td>\n",
       "      <td>363.0</td>\n",
       "      <td>69.00</td>\n",
       "      <td>1</td>\n",
       "      <td>-339.52</td>\n",
       "      <td>8</td>\n",
       "      <td>119888</td>\n",
       "      <td>1</td>\n",
       "    </tr>\n",
       "    <tr>\n",
       "      <th>121605</th>\n",
       "      <td>107.0</td>\n",
       "      <td>100.0</td>\n",
       "      <td>36.10</td>\n",
       "      <td>133.0</td>\n",
       "      <td>103.0</td>\n",
       "      <td>82.0</td>\n",
       "      <td>18.0</td>\n",
       "      <td>33.0</td>\n",
       "      <td>2.0</td>\n",
       "      <td>25.1</td>\n",
       "      <td>...</td>\n",
       "      <td>30.5</td>\n",
       "      <td>7.1</td>\n",
       "      <td>290.0</td>\n",
       "      <td>363.0</td>\n",
       "      <td>69.00</td>\n",
       "      <td>1</td>\n",
       "      <td>-339.52</td>\n",
       "      <td>9</td>\n",
       "      <td>119888</td>\n",
       "      <td>1</td>\n",
       "    </tr>\n",
       "    <tr>\n",
       "      <th>121606</th>\n",
       "      <td>121.0</td>\n",
       "      <td>100.0</td>\n",
       "      <td>36.30</td>\n",
       "      <td>132.0</td>\n",
       "      <td>107.0</td>\n",
       "      <td>89.0</td>\n",
       "      <td>18.0</td>\n",
       "      <td>33.0</td>\n",
       "      <td>2.0</td>\n",
       "      <td>25.1</td>\n",
       "      <td>...</td>\n",
       "      <td>30.5</td>\n",
       "      <td>7.1</td>\n",
       "      <td>290.0</td>\n",
       "      <td>363.0</td>\n",
       "      <td>69.00</td>\n",
       "      <td>1</td>\n",
       "      <td>-339.52</td>\n",
       "      <td>10</td>\n",
       "      <td>119888</td>\n",
       "      <td>1</td>\n",
       "    </tr>\n",
       "    <tr>\n",
       "      <th>121607</th>\n",
       "      <td>120.0</td>\n",
       "      <td>100.0</td>\n",
       "      <td>36.30</td>\n",
       "      <td>144.0</td>\n",
       "      <td>113.0</td>\n",
       "      <td>98.5</td>\n",
       "      <td>14.0</td>\n",
       "      <td>33.0</td>\n",
       "      <td>2.0</td>\n",
       "      <td>25.1</td>\n",
       "      <td>...</td>\n",
       "      <td>30.5</td>\n",
       "      <td>7.1</td>\n",
       "      <td>290.0</td>\n",
       "      <td>363.0</td>\n",
       "      <td>69.00</td>\n",
       "      <td>1</td>\n",
       "      <td>-339.52</td>\n",
       "      <td>11</td>\n",
       "      <td>119888</td>\n",
       "      <td>1</td>\n",
       "    </tr>\n",
       "    <tr>\n",
       "      <th>121608</th>\n",
       "      <td>126.0</td>\n",
       "      <td>100.0</td>\n",
       "      <td>36.30</td>\n",
       "      <td>122.0</td>\n",
       "      <td>98.0</td>\n",
       "      <td>85.0</td>\n",
       "      <td>16.0</td>\n",
       "      <td>33.0</td>\n",
       "      <td>2.0</td>\n",
       "      <td>25.1</td>\n",
       "      <td>...</td>\n",
       "      <td>30.5</td>\n",
       "      <td>7.1</td>\n",
       "      <td>290.0</td>\n",
       "      <td>363.0</td>\n",
       "      <td>69.00</td>\n",
       "      <td>1</td>\n",
       "      <td>-339.52</td>\n",
       "      <td>12</td>\n",
       "      <td>119888</td>\n",
       "      <td>1</td>\n",
       "    </tr>\n",
       "  </tbody>\n",
       "</table>\n",
       "<p>14550 rows × 40 columns</p>\n",
       "</div>"
      ],
      "text/plain": [
       "           HR  O2Sat   Temp    SBP    MAP   DBP  Resp  EtCO2  BaseExcess  \\\n",
       "34       85.0  100.0  36.10  117.0   90.0  74.0  11.0   50.0        -7.0   \n",
       "35       85.0  100.0  36.10  117.0   90.0  74.0  11.0   50.0        -7.0   \n",
       "36       89.5  100.0  36.55  122.5   93.0  75.5   9.5   50.0        -7.0   \n",
       "37       97.0  100.0  36.70  127.0   97.0  79.0  12.0   50.0        -8.0   \n",
       "38       90.0  100.0  37.00  110.0   85.0  70.0  14.0   50.0        -8.0   \n",
       "...       ...    ...    ...    ...    ...   ...   ...    ...         ...   \n",
       "121604   99.5  100.0  36.10  153.0  112.0  83.0  20.0   33.0         2.0   \n",
       "121605  107.0  100.0  36.10  133.0  103.0  82.0  18.0   33.0         2.0   \n",
       "121606  121.0  100.0  36.30  132.0  107.0  89.0  18.0   33.0         2.0   \n",
       "121607  120.0  100.0  36.30  144.0  113.0  98.5  14.0   33.0         2.0   \n",
       "121608  126.0  100.0  36.30  122.0   98.0  85.0  16.0   33.0         2.0   \n",
       "\n",
       "        HCO3  ...   PTT   WBC  Fibrinogen  Platelets    Age  Gender  \\\n",
       "34      18.0  ...  72.1  12.6       102.0      127.0  58.54       0   \n",
       "35      18.0  ...  72.1  12.6       102.0      127.0  58.54       0   \n",
       "36      18.0  ...  72.1  12.6       102.0      127.0  58.54       0   \n",
       "37      18.0  ...  37.0  12.6       102.0      127.0  58.54       0   \n",
       "38      17.0  ...  37.0  17.7       102.0      102.0  58.54       0   \n",
       "...      ...  ...   ...   ...         ...        ...    ...     ...   \n",
       "121604  25.1  ...  30.5   7.1       290.0      363.0  69.00       1   \n",
       "121605  25.1  ...  30.5   7.1       290.0      363.0  69.00       1   \n",
       "121606  25.1  ...  30.5   7.1       290.0      363.0  69.00       1   \n",
       "121607  25.1  ...  30.5   7.1       290.0      363.0  69.00       1   \n",
       "121608  25.1  ...  30.5   7.1       290.0      363.0  69.00       1   \n",
       "\n",
       "        HospAdmTime  ICULOS  patient_id  SepsisLabel  \n",
       "34          -405.34       1          15            0  \n",
       "35          -405.34       2          15            0  \n",
       "36          -405.34       3          15            0  \n",
       "37          -405.34       4          15            0  \n",
       "38          -405.34       5          15            0  \n",
       "...             ...     ...         ...          ...  \n",
       "121604      -339.52       8      119888            1  \n",
       "121605      -339.52       9      119888            1  \n",
       "121606      -339.52      10      119888            1  \n",
       "121607      -339.52      11      119888            1  \n",
       "121608      -339.52      12      119888            1  \n",
       "\n",
       "[14550 rows x 40 columns]"
      ]
     },
     "execution_count": 30,
     "metadata": {},
     "output_type": "execute_result"
    }
   ],
   "source": [
    "train_clean"
   ]
  }
 ],
 "metadata": {
  "kernelspec": {
   "display_name": "Python 3",
   "language": "python",
   "name": "python3"
  },
  "language_info": {
   "codemirror_mode": {
    "name": "ipython",
    "version": 3
   },
   "file_extension": ".py",
   "mimetype": "text/x-python",
   "name": "python",
   "nbconvert_exporter": "python",
   "pygments_lexer": "ipython3",
   "version": "3.8.8"
  }
 },
 "nbformat": 4,
 "nbformat_minor": 5
}
